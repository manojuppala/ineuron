{
 "cells": [
  {
   "cell_type": "markdown",
   "metadata": {},
   "source": [
    "> 1.) Write a function to compute 5/0 and use try/except to catch the exceptions. "
   ]
  },
  {
   "cell_type": "code",
   "execution_count": 20,
   "metadata": {},
   "outputs": [
    {
     "name": "stdout",
     "output_type": "stream",
     "text": [
      "cannot divide with zero!!\n"
     ]
    }
   ],
   "source": [
    "def divide(a,b):\n",
    "    try:\n",
    "        div=a/b\n",
    "        return div\n",
    "    except(ZeroDivisionError):\n",
    "        print(\"cannot divide with zero!!\")\n",
    "    \n",
    "divide(5,0)"
   ]
  },
  {
   "cell_type": "markdown",
   "metadata": {},
   "source": [
    "> 2.) Implement a Python program to generate all sentences where subject is in  [\"Americans\", \"Indians\"] and verb is in [\"Play\", \"watch\"] and the object is in  [\"Baseball\",\"cricket\"]. <br>\n",
    "**Hint:** Subject,Verb and Object should be declared in the program as shown below.<br> \n",
    "subjects=[\"Americans \",\"Indians\"] <br>\n",
    "verbs=[\"play\",\"watch\"] <br>\n",
    "objects=[\"Baseball\",\"Cricket\"]<br><br>\n",
    "**Output should come as below:** <br>\n",
    "Americans play Baseball. <br>\n",
    "Americans play Cricket. <br>\n",
    "Americans watch Baseball. <br>\n",
    "Americans watch Cricket. <br>\n",
    "Indians play Baseball. <br>\n",
    "Indians play Cricket. <br>\n",
    "Indians watch Baseball. <br>\n",
    "Indians watch Cricket. <br>"
   ]
  },
  {
   "cell_type": "code",
   "execution_count": 17,
   "metadata": {},
   "outputs": [
    {
     "name": "stdout",
     "output_type": "stream",
     "text": [
      "Americans  play Baseball.\n",
      "Americans  play Cricket.\n",
      "Americans  watch Baseball.\n",
      "Americans  watch Cricket.\n",
      "Indians play Baseball.\n",
      "Indians play Cricket.\n",
      "Indians watch Baseball.\n",
      "Indians watch Cricket.\n"
     ]
    }
   ],
   "source": [
    "subjects=[\"Americans \",\"Indians\"]\n",
    "verbs=[\"play\",\"watch\"]\n",
    "objects=[\"Baseball\",\"Cricket\"]\n",
    "\n",
    "list1=[i+' '+j+' '+k+'.'   for i in subjects for j in verbs for k in objects]\n",
    "for i in list1:\n",
    "    print(i)"
   ]
  }
 ],
 "metadata": {
  "kernelspec": {
   "display_name": "Python 3",
   "language": "python",
   "name": "python3"
  },
  "language_info": {
   "codemirror_mode": {
    "name": "ipython",
    "version": 3
   },
   "file_extension": ".py",
   "mimetype": "text/x-python",
   "name": "python",
   "nbconvert_exporter": "python",
   "pygments_lexer": "ipython3",
   "version": "3.8.5"
  }
 },
 "nbformat": 4,
 "nbformat_minor": 4
}
