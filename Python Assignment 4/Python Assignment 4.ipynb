{
 "cells": [
  {
   "cell_type": "markdown",
   "metadata": {},
   "source": [
    "> 1.1) Write a Python Program(with class concepts) to find the area of the triangle using the below  formula. <br>\n",
    "**area = (s*(s-a)*(s-b)*(s-c)) ** 0.5** <br>\n",
    "Function to take the length of the sides of triangle from user should be defined in the parent  class and function to calculate the area should be defined in subclass. \n"
   ]
  },
  {
   "cell_type": "code",
   "execution_count": 15,
   "metadata": {},
   "outputs": [
    {
     "name": "stdout",
     "output_type": "stream",
     "text": [
      "2\n",
      "2\n",
      "2\n",
      "1.7320508075688772\n"
     ]
    }
   ],
   "source": [
    "class Area:\n",
    "    def __init__(self):\n",
    "        self.a=int(input())\n",
    "        self.b=int(input())\n",
    "        self.c=int(input())\n",
    "class Triangle(Area):\n",
    "    def calc_area(self):\n",
    "        s=(self.a+self.b+self.c)/2\n",
    "        return ((s*(s-self.a)*(s-self.b)*(s-self.c))**(0.5))\n",
    "t = Triangle()\n",
    "print(t.calc_area())"
   ]
  },
  {
   "cell_type": "markdown",
   "metadata": {},
   "source": [
    "> 1.2) Write a function filter_long_words() that takes a list of words and an integer n and returns  the list of words that are longer than n. "
   ]
  },
  {
   "cell_type": "code",
   "execution_count": 17,
   "metadata": {},
   "outputs": [
    {
     "name": "stdout",
     "output_type": "stream",
     "text": [
      "['virat kohli', 'joe root']\n"
     ]
    }
   ],
   "source": [
    "def filter_long_words(words,n):\n",
    "    ans=[]\n",
    "    for word in words:\n",
    "        if(len(word)>n):\n",
    "            ans.append(word)\n",
    "    return ans\n",
    "print(filter_long_words(['virat kohli','smith','joe root','kane'],5))"
   ]
  },
  {
   "cell_type": "markdown",
   "metadata": {},
   "source": [
    "> 2.1) Write a Python program using function concept that maps list of words into a list of integers  representing the lengths of the corresponding words. <br>\n",
    "**Hint:** If a list [ ab,cde,erty] is passed on to the python function output should come as [2,3,4] Here 2,3 and 4 are the lengths of the words in the list. "
   ]
  },
  {
   "cell_type": "code",
   "execution_count": 18,
   "metadata": {},
   "outputs": [
    {
     "data": {
      "text/plain": [
       "[6, 16, 13, 27, 12]"
      ]
     },
     "execution_count": 18,
     "metadata": {},
     "output_type": "execute_result"
    }
   ],
   "source": [
    "def len_of_words(words):\n",
    "    lengths=[]\n",
    "    for word in words:\n",
    "        lengths.append(len(word))\n",
    "    return lengths\n",
    "len_of_words(['python','machine learning','deep learning','natural language processing','data science'])"
   ]
  },
  {
   "cell_type": "markdown",
   "metadata": {},
   "source": [
    "> 2.2) Write a Python function which takes a character (i.e. a string of length 1) and returns True if  it is a vowel, False otherwise. "
   ]
  },
  {
   "cell_type": "code",
   "execution_count": 19,
   "metadata": {},
   "outputs": [
    {
     "data": {
      "text/plain": [
       "True"
      ]
     },
     "execution_count": 19,
     "metadata": {},
     "output_type": "execute_result"
    }
   ],
   "source": [
    "def vowel(char):\n",
    "    vowels=['a','e','i','o','u']\n",
    "    if char in vowels:\n",
    "        return True\n",
    "    else:\n",
    "        return False\n",
    "vowel('e')    "
   ]
  }
 ],
 "metadata": {
  "kernelspec": {
   "display_name": "Python 3",
   "language": "python",
   "name": "python3"
  },
  "language_info": {
   "codemirror_mode": {
    "name": "ipython",
    "version": 3
   },
   "file_extension": ".py",
   "mimetype": "text/x-python",
   "name": "python",
   "nbconvert_exporter": "python",
   "pygments_lexer": "ipython3",
   "version": "3.8.5"
  }
 },
 "nbformat": 4,
 "nbformat_minor": 4
}
